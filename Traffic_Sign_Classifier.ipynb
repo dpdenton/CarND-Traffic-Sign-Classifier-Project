{
 "cells": [
  {
   "cell_type": "markdown",
   "metadata": {},
   "source": [
    "# Self-Driving Car Engineer Nanodegree\n",
    "\n",
    "## Deep Learning\n",
    "\n",
    "## Project: Build a Traffic Sign Recognition Classifier\n",
    "\n",
    "In this notebook, a template is provided for you to implement your functionality in stages, which is required to successfully complete this project. If additional code is required that cannot be included in the notebook, be sure that the Python code is successfully imported and included in your submission if necessary. \n",
    "\n",
    "> **Note**: Once you have completed all of the code implementations, you need to finalize your work by exporting the iPython Notebook as an HTML document. Before exporting the notebook to html, all of the code cells need to have been run so that reviewers can see the final implementation and output. You can then export the notebook by using the menu above and navigating to  \\n\",\n",
    "    \"**File -> Download as -> HTML (.html)**. Include the finished document along with this notebook as your submission. \n",
    "\n",
    "In addition to implementing code, there is a writeup to complete. The writeup should be completed in a separate file, which can be either a markdown file or a pdf document. There is a [write up template](https://github.com/udacity/CarND-Traffic-Sign-Classifier-Project/blob/master/writeup_template.md) that can be used to guide the writing process. Completing the code template and writeup template will cover all of the [rubric points](https://review.udacity.com/#!/rubrics/481/view) for this project.\n",
    "\n",
    "The [rubric](https://review.udacity.com/#!/rubrics/481/view) contains \"Stand Out Suggestions\" for enhancing the project beyond the minimum requirements. The stand out suggestions are optional. If you decide to pursue the \"stand out suggestions\", you can include the code in this Ipython notebook and also discuss the results in the writeup file.\n",
    "\n",
    "\n",
    ">**Note:** Code and Markdown cells can be executed using the **Shift + Enter** keyboard shortcut. In addition, Markdown cells can be edited by typically double-clicking the cell to enter edit mode."
   ]
  },
  {
   "cell_type": "markdown",
   "metadata": {},
   "source": [
    "---\n",
    "## Step 0: Load The Data"
   ]
  },
  {
   "cell_type": "code",
   "execution_count": 24,
   "metadata": {
    "collapsed": false
   },
   "outputs": [],
   "source": [
    "# Load pickled data\n",
    "import pickle\n",
    "\n",
    "# TODO: Fill this in based on where you saved the training and testing data\n",
    "\n",
    "training_file = \"data/train.p\"\n",
    "validation_file= \"data/valid.p\"\n",
    "testing_file = \"data/test.p\"\n",
    "\n",
    "with open(training_file, mode='rb') as f:\n",
    "    train = pickle.load(f)\n",
    "with open(validation_file, mode='rb') as f:\n",
    "    valid = pickle.load(f)\n",
    "with open(testing_file, mode='rb') as f:\n",
    "    test = pickle.load(f)\n",
    "    \n",
    "X_train, y_train = train['features'], train['labels']\n",
    "X_valid, y_valid = valid['features'], valid['labels']\n",
    "X_test, y_test = test['features'], test['labels']"
   ]
  },
  {
   "cell_type": "code",
   "execution_count": null,
   "metadata": {
    "collapsed": true
   },
   "outputs": [],
   "source": []
  },
  {
   "cell_type": "markdown",
   "metadata": {},
   "source": [
    "---\n",
    "\n",
    "## Step 1: Dataset Summary & Exploration\n",
    "\n",
    "The pickled data is a dictionary with 4 key/value pairs:\n",
    "\n",
    "- `'features'` is a 4D array containing raw pixel data of the traffic sign images, (num examples, width, height, channels).\n",
    "- `'labels'` is a 1D array containing the label/class id of the traffic sign. The file `signnames.csv` contains id -> name mappings for each id.\n",
    "- `'sizes'` is a list containing tuples, (width, height) representing the original width and height the image.\n",
    "- `'coords'` is a list containing tuples, (x1, y1, x2, y2) representing coordinates of a bounding box around the sign in the image. **THESE COORDINATES ASSUME THE ORIGINAL IMAGE. THE PICKLED DATA CONTAINS RESIZED VERSIONS (32 by 32) OF THESE IMAGES**\n",
    "\n",
    "Complete the basic data summary below. Use python, numpy and/or pandas methods to calculate the data summary rather than hard coding the results. For example, the [pandas shape method](http://pandas.pydata.org/pandas-docs/stable/generated/pandas.DataFrame.shape.html) might be useful for calculating some of the summary results. "
   ]
  },
  {
   "cell_type": "markdown",
   "metadata": {},
   "source": [
    "### Provide a Basic Summary of the Data Set Using Python, Numpy and/or Pandas"
   ]
  },
  {
   "cell_type": "code",
   "execution_count": 17,
   "metadata": {
    "collapsed": false
   },
   "outputs": [
    {
     "name": "stdout",
     "output_type": "stream",
     "text": [
      "Number of training examples = 34799\n",
      "Number of testing examples = 12630\n",
      "Image data shape = (32, 32, 3)\n",
      "Number of classes = 43\n"
     ]
    }
   ],
   "source": [
    "### Replace each question mark with the appropriate value. \n",
    "### Use python, pandas or numpy methods rather than hard coding the results\n",
    "\n",
    "# TODO: Number of training examples\n",
    "n_train = X_train.shape[0]\n",
    "\n",
    "# TODO: Number of testing examples.\n",
    "n_test = X_test.shape[0]\n",
    "\n",
    "# TODO: What's the shape of an traffic sign image?\n",
    "image_shape = X_train.shape[1:]\n",
    "\n",
    "# TODO: How many unique classes/labels there are in the dataset.\n",
    "n_classes = len(set(y_train))\n",
    "\n",
    "print(\"Number of training examples =\", n_train)\n",
    "print(\"Number of testing examples =\", n_test)\n",
    "print(\"Image data shape =\", image_shape)\n",
    "print(\"Number of classes =\", n_classes)"
   ]
  },
  {
   "cell_type": "markdown",
   "metadata": {},
   "source": [
    "### Include an exploratory visualization of the dataset"
   ]
  },
  {
   "cell_type": "markdown",
   "metadata": {},
   "source": [
    "Visualize the German Traffic Signs Dataset using the pickled file(s). This is open ended, suggestions include: plotting traffic sign images, plotting the count of each sign, etc.\n",
    "\n",
    "The [Matplotlib](http://matplotlib.org/) [examples](http://matplotlib.org/examples/index.html) and [gallery](http://matplotlib.org/gallery.html) pages are a great resource for doing visualizations in Python.\n",
    "\n",
    "**NOTE:** It's recommended you start with something simple first. If you wish to do more, come back to it after you've completed the rest of the sections."
   ]
  },
  {
   "cell_type": "code",
   "execution_count": 6,
   "metadata": {
    "collapsed": false,
    "scrolled": false
   },
   "outputs": [
    {
     "data": {
      "image/png": "[encoded data removed]",
      "text/plain": [
       "<matplotlib.figure.Figure at 0x1bfb0292240>"
      ]
     },
     "metadata": {},
     "output_type": "display_data"
    }
   ],
   "source": [
    "### Data exploration visualization code goes here.\n",
    "### Feel free to use as many code cells as needed.\n",
    "import matplotlib.pyplot as plt\n",
    "from itertools import groupby\n",
    "import numpy as np\n",
    "# Visualizations will be shown in the notebook.\n",
    "%matplotlib inline\n",
    "\n",
    "\n",
    "cls_counts = [len(list(j)) for i, j in groupby(sorted(y_train))] # class counts\n",
    "cls = np.arange(len(cls_counts))  # the x locations for the groups\n",
    "width = 0.35 # the width of the bars\n",
    "fig, ax = plt.subplots()\n",
    "rects1 = ax.bar(cls, cls_counts, width, color='r')\n",
    "\n",
    "# add some text for labels, title and axes ticks\n",
    "ax.set_ylabel('Count')\n",
    "ax.set_title('Count of each sign class')\n",
    "\n",
    "def autolabel(rects):\n",
    "    \"\"\"\n",
    "    Attach a text label above each bar displaying its height\n",
    "    \"\"\"\n",
    "    for rect in rects:\n",
    "        height = rect.get_height()\n",
    "        ax.text(rect.get_x() + rect.get_width()/2., 1.05*height,\n",
    "                '%d' % int(height),\n",
    "                ha='center', va='bottom')\n",
    "\n",
    "autolabel(rects1)\n",
    "\n",
    "plt.show()"
   ]
  },
  {
   "cell_type": "markdown",
   "metadata": {},
   "source": [
    "----\n",
    "\n",
    "## Step 2: Design and Test a Model Architecture\n",
    "\n",
    "Design and implement a deep learning model that learns to recognize traffic signs. Train and test your model on the [German Traffic Sign Dataset](http://benchmark.ini.rub.de/?section=gtsrb&subsection=dataset).\n",
    "\n",
    "The LeNet-5 implementation shown in the [classroom](https://classroom.udacity.com/nanodegrees/nd013/parts/fbf77062-5703-404e-b60c-95b78b2f3f9e/modules/6df7ae49-c61c-4bb2-a23e-6527e69209ec/lessons/601ae704-1035-4287-8b11-e2c2716217ad/concepts/d4aca031-508f-4e0b-b493-e7b706120f81) at the end of the CNN lesson is a solid starting point. You'll have to change the number of classes and possibly the preprocessing, but aside from that it's plug and play! \n",
    "\n",
    "With the LeNet-5 solution from the lecture, you should expect a validation set accuracy of about 0.89. To meet specifications, the validation set accuracy will need to be at least 0.93. It is possible to get an even higher accuracy, but 0.93 is the minimum for a successful project submission. \n",
    "\n",
    "There are various aspects to consider when thinking about this problem:\n",
    "\n",
    "- Neural network architecture (is the network over or underfitting?)\n",
    "- Play around preprocessing techniques (normalization, rgb to grayscale, etc)\n",
    "- Number of examples per label (some have more than others).\n",
    "- Generate fake data.\n",
    "\n",
    "Here is an example of a [published baseline model on this problem](http://yann.lecun.com/exdb/publis/pdf/sermanet-ijcnn-11.pdf). It's not required to be familiar with the approach used in the paper but, it's good practice to try to read papers like these."
   ]
  },
  {
   "cell_type": "markdown",
   "metadata": {},
   "source": [
    "### Pre-process the Data Set (normalization, grayscale, etc.)"
   ]
  },
  {
   "cell_type": "markdown",
   "metadata": {},
   "source": [
    "Use the code cell (or multiple code cells, if necessary) to implement the first step of your project."
   ]
  },
  {
   "cell_type": "code",
   "execution_count": 2,
   "metadata": {
    "collapsed": false
   },
   "outputs": [
    {
     "name": "stdout",
     "output_type": "stream",
     "text": [
      "New X Train:  (36599, 32, 32, 1)\n",
      "New X Train:  (38039, 32, 32, 1)\n",
      "New X Train:  (38729, 32, 32, 1)\n",
      "New X Train:  (39809, 32, 32, 1)\n",
      "New X Train:  (41249, 32, 32, 1)\n",
      "New X Train:  (42239, 32, 32, 1)\n",
      "New X Train:  (44039, 32, 32, 1)\n",
      "New X Train:  (45539, 32, 32, 1)\n",
      "New X Train:  (47159, 32, 32, 1)\n",
      "New X Train:  (48809, 32, 32, 1)\n",
      "New X Train:  (50159, 32, 32, 1)\n",
      "New X Train:  (51839, 32, 32, 1)\n",
      "New X Train:  (52919, 32, 32, 1)\n",
      "New X Train:  (54599, 32, 32, 1)\n",
      "New X Train:  (56039, 32, 32, 1)\n",
      "New X Train:  (57719, 32, 32, 1)\n",
      "New X Train:  (59279, 32, 32, 1)\n",
      "New X Train:  (59969, 32, 32, 1)\n",
      "New X Train:  (61649, 32, 32, 1)\n",
      "New X Train:  (62847, 32, 32, 1)\n",
      "New X Train:  (64287, 32, 32, 1)\n",
      "New X Train:  (65937, 32, 32, 1)\n",
      "New X Train:  (67737, 32, 32, 1)\n",
      "New X Train:  (69357, 32, 32, 1)\n",
      "New X Train:  (70857, 32, 32, 1)\n",
      "New X Train:  (72537, 32, 32, 1)\n",
      "New X Train:  (74217, 32, 32, 1)\n",
      "Image data shape = (32, 32, 1)\n"
     ]
    }
   ],
   "source": [
    "### Preprocess the data here. Preprocessing steps could include normalization, converting to grayscale, etc.\n",
    "### Feel free to use as many code cells as needed.\n",
    "import cv2\n",
    "import numpy as np\n",
    "import random\n",
    "from sklearn.utils import shuffle\n",
    "from itertools import groupby\n",
    "\n",
    "# Load pickled data\n",
    "import pickle\n",
    "\n",
    "# TODO: Fill this in based on where you saved the training and testing data\n",
    "\n",
    "training_file = \"data/train.p\"\n",
    "validation_file= \"data/valid.p\"\n",
    "testing_file = \"data/test.p\"\n",
    "\n",
    "with open(training_file, mode='rb') as f:\n",
    "    train = pickle.load(f)\n",
    "with open(validation_file, mode='rb') as f:\n",
    "    valid = pickle.load(f)\n",
    "with open(testing_file, mode='rb') as f:\n",
    "    test = pickle.load(f)\n",
    "    \n",
    "X_train, y_train = train['features'], train['labels']\n",
    "X_valid, y_valid = valid['features'], valid['labels']\n",
    "X_test, y_test = test['features'], test['labels']\n",
    "\n",
    "\n",
    "# greyscale\n",
    "X_train = np.array([cv2.cvtColor(img, cv2.COLOR_BGR2GRAY) for img in X_train])\n",
    "X_train = X_train.reshape( (len(X_train), 32, 32, 1) )\n",
    "X_valid = np.array([cv2.cvtColor(img, cv2.COLOR_BGR2GRAY) for img in X_valid])\n",
    "X_valid = X_valid.reshape( (len(X_valid), 32, 32, 1) )\n",
    "X_test = np.array([cv2.cvtColor(img, cv2.COLOR_BGR2GRAY) for img in X_test])\n",
    "X_test = X_test.reshape( (len(X_test), 32, 32, 1) )\n",
    "\n",
    "# tear down classes to get a more even distribution\n",
    "# CLASS_CAP = 300\n",
    "\n",
    "# num_of_classes = [len(list(j)) for i, j in groupby(sorted(y_train))]\n",
    "# class_count = {idx:0 for idx in range(len(num_of_classes))}\n",
    "\n",
    "# X_train_even = []\n",
    "# y_train_even = []\n",
    "\n",
    "# for idx, img in enumerate(X_train):\n",
    "#     # remove img if greater than class cap\n",
    "#     if class_count[y_train[idx]] < CLASS_CAP:\n",
    "#         X_train_even.append(img)\n",
    "#         y_train_even.append(y_train[idx])\n",
    "\n",
    "#     # update class count\n",
    "#     class_count[y_train[idx]] += 1\n",
    "\n",
    "# X_train = np.array(X_train_even)\n",
    "# y_train = np.array(y_train_even)\n",
    "   \n",
    "   \n",
    "# build up classes to get a more even distribution\n",
    "\n",
    "# apply rotation\n",
    "def apply_rotation(img):\n",
    "    rotation = random.randrange(-10, 10)\n",
    "    M = cv2.getRotationMatrix2D((16, 16), rotation, 1)\n",
    "    dst = cv2.warpAffine(img, M, (32, 32))\n",
    "    return dst.reshape(32, 32, 1)\n",
    "\n",
    "# random pixel perturbation\n",
    "def apply_perturbation(img):\n",
    "\n",
    "    # create random array\n",
    "    arr = np.random.rand(32, 32, 1)\n",
    "    # apply perturbation\n",
    "    arr = (arr-0.5) * 6\n",
    "    arr = arr.astype(int)\n",
    "    img = img + arr\n",
    "    # bring back values out of 0-255 range.\n",
    "    img[img > 255] = 255\n",
    "    img[img < 0] = 0\n",
    "    return img\n",
    "\n",
    "# get frequency of each class\n",
    "num_of_classes = [len(list(j)) for i, j in groupby(sorted(y_train))]\n",
    "\n",
    "# create lists of each training data example for each class\n",
    "cls_dict = {idx:[] for idx in range(len(num_of_classes))}\n",
    "for idx, img in enumerate(X_train):\n",
    "    cls_dict[y_train[idx]].append(img)\n",
    "    \n",
    "max_classes = max(num_of_classes)\n",
    "# create fake data to make class frequency dist a bit more even\n",
    "for idx in range(len(num_of_classes)):\n",
    "    \n",
    "    multiplier = int(max_classes / len(cls_dict[idx]) - 1)\n",
    "    if multiplier:\n",
    "        \n",
    "        # generate fake x data\n",
    "        fake_x_data = np.array(cls_dict[idx] * multiplier)\n",
    "        \n",
    "        new_fake_x_data = []\n",
    "        for image in fake_x_data:\n",
    "            #image = apply_rotation(image)\n",
    "            #print(\"Image shape after apply_rotation(): \", image.shape)\n",
    "            image = apply_perturbation(image)\n",
    "            #print(\"Image shape after apply_perturbation(): \", image.shape)\n",
    "            new_fake_x_data.append(image)\n",
    "            \n",
    "        new_fake_x_data = np.array(new_fake_x_data)\n",
    "        X_train = np.vstack((X_train, new_fake_x_data))\n",
    "        \n",
    "        # generate corresponding y labels\n",
    "        fake_y_data = np.full((len(fake_x_data), ), idx, dtype=int)\n",
    "        y_train = np.concatenate((y_train, fake_y_data))\n",
    "        print(\"New X Train: \", X_train.shape)\n",
    "        \n",
    "# normalize\n",
    "X_train = (X_train-128.0)/128.0\n",
    "X_test = (X_test-128.0)/128.0\n",
    "X_valid = (X_valid-128.0)/128.0\n",
    "             \n",
    "# shuffle\n",
    "X_train, y_train = shuffle(X_train, y_train)\n",
    "    \n",
    "print(\"Image data shape =\", X_train[0].shape)\n"
   ]
  },
  {
   "cell_type": "markdown",
   "metadata": {},
   "source": [
    "### Model Architecture"
   ]
  },
  {
   "cell_type": "code",
   "execution_count": 3,
   "metadata": {
    "collapsed": false
   },
   "outputs": [],
   "source": [
    "### Define your architecture here.\n",
    "### Feel free to use as many code cells as needed.\n",
    "\n",
    "from tensorflow.contrib.layers import flatten\n",
    "\n",
    "def LeNet(x, outputs, depth):    \n",
    "    # Arguments used for tf.truncated_normal, randomly defines variables for the weights and biases for each layer\n",
    "    mu = 0\n",
    "    sigma = 0.1\n",
    "    \n",
    "    # SOLUTION: Layer 1: Convolutional. Input = 32x32x1. Output = 28x28x6.\n",
    "    conv1_W = tf.Variable(tf.truncated_normal(shape=(5, 5, depth, 6), mean = mu, stddev = sigma))\n",
    "    conv1_b = tf.Variable(tf.zeros(6))\n",
    "    conv1   = tf.nn.conv2d(x, conv1_W, strides=[1, 1, 1, 1], padding='VALID', name='conv1') + conv1_b\n",
    "\n",
    "    # SOLUTION: Activation.\n",
    "    conv1 = tf.nn.relu(conv1)\n",
    "\n",
    "    # SOLUTION: Pooling. Input = 28x28x6. Output = 14x14x6.\n",
    "    conv1 = tf.nn.max_pool(conv1, ksize=[1, 2, 2, 1], strides=[1, 2, 2, 1], padding='VALID')\n",
    "\n",
    "    # SOLUTION: Layer 2: Convolutional. Output = 10x10x16.\n",
    "    conv2_W = tf.Variable(tf.truncated_normal(shape=(5, 5, 6, 16), mean = mu, stddev = sigma))\n",
    "    conv2_b = tf.Variable(tf.zeros(16))\n",
    "    conv2   = tf.nn.conv2d(conv1, conv2_W, strides=[1, 1, 1, 1], padding='VALID', name='conv2') + conv2_b\n",
    "    \n",
    "    # SOLUTION: Activation.\n",
    "    conv2 = tf.nn.relu(conv2)\n",
    "\n",
    "    # SOLUTION: Pooling. Input = 10x10x16. Output = 5x5x16.\n",
    "    conv2 = tf.nn.max_pool(conv2, ksize=[1, 2, 2, 1], strides=[1, 2, 2, 1], padding='VALID')\n",
    "\n",
    "    # SOLUTION: Flatten. Input = 5x5x16. Output = 400.\n",
    "    fc0   = flatten(conv2)\n",
    "    \n",
    "    # dropout\n",
    "    fc0 = tf.nn.dropout(fc0, keep_prob)\n",
    "    \n",
    "    # SOLUTION: Layer 3: Fully Connected. Input = 400. Output = 120.\n",
    "    fc1_W = tf.Variable(tf.truncated_normal(shape=(400, 120), mean = mu, stddev = sigma))\n",
    "    fc1_b = tf.Variable(tf.zeros(120))\n",
    "    fc1   = tf.matmul(fc0, fc1_W) + fc1_b\n",
    "    \n",
    "    # SOLUTION: Activation.\n",
    "    fc1    = tf.nn.relu(fc1)\n",
    "\n",
    "    # SOLUTION: Layer 4: Fully Connected. Input = 120. Output = 84.\n",
    "    fc2_W  = tf.Variable(tf.truncated_normal(shape=(120, 84), mean = mu, stddev = sigma))\n",
    "    fc2_b  = tf.Variable(tf.zeros(84))\n",
    "    fc2    = tf.matmul(fc1, fc2_W) + fc2_b\n",
    "    \n",
    "    # SOLUTION: Activation.\n",
    "    fc2    = tf.nn.relu(fc2)\n",
    "\n",
    "    # SOLUTION: Layer 5: Fully Connected. Input = 84. Output = 43.\n",
    "    fc3_W  = tf.Variable(tf.truncated_normal(shape=(84, outputs), mean = mu, stddev = sigma))\n",
    "    fc3_b  = tf.Variable(tf.zeros(outputs))\n",
    "    logits = tf.matmul(fc2, fc3_W) + fc3_b\n",
    "    \n",
    "    return logits"
   ]
  },
  {
   "cell_type": "markdown",
   "metadata": {},
   "source": [
    "### Train, Validate and Test the Model"
   ]
  },
  {
   "cell_type": "markdown",
   "metadata": {},
   "source": [
    "A validation set can be used to assess how well the model is performing. A low accuracy on the training and validation\n",
    "sets imply underfitting. A high accuracy on the training set but low accuracy on the validation set implies overfitting."
   ]
  },
  {
   "cell_type": "code",
   "execution_count": 4,
   "metadata": {
    "collapsed": false
   },
   "outputs": [
    {
     "name": "stdout",
     "output_type": "stream",
     "text": [
      "Training...\n",
      "\n",
      "EPOCH 1 using learning rate 0.0006...\n",
      "Train Accuracy  = 0.872\n",
      "Validation Accuracy = 0.751\n",
      "\n",
      "EPOCH 2 using learning rate 0.0006...\n",
      "Train Accuracy  = 0.943\n",
      "Validation Accuracy = 0.862\n",
      "\n",
      "EPOCH 3 using learning rate 0.0006...\n",
      "Train Accuracy  = 0.966\n",
      "Validation Accuracy = 0.897\n",
      "\n",
      "EPOCH 4 using learning rate 0.0006...\n",
      "Train Accuracy  = 0.969\n",
      "Validation Accuracy = 0.905\n",
      "\n",
      "EPOCH 5 using learning rate 0.0006...\n",
      "Train Accuracy  = 0.979\n",
      "Validation Accuracy = 0.923\n",
      "\n",
      "EPOCH 6 using learning rate 0.0006...\n",
      "Train Accuracy  = 0.982\n",
      "Validation Accuracy = 0.934\n",
      "\n",
      "EPOCH 7 using learning rate 0.0006...\n",
      "Train Accuracy  = 0.986\n",
      "Validation Accuracy = 0.935\n",
      "\n",
      "EPOCH 8 using learning rate 0.0006...\n",
      "Train Accuracy  = 0.988\n",
      "Validation Accuracy = 0.935\n",
      "\n",
      "EPOCH 9 using learning rate 0.0006...\n",
      "Train Accuracy  = 0.987\n",
      "Validation Accuracy = 0.938\n",
      "\n",
      "EPOCH 10 using learning rate 0.0006...\n",
      "Train Accuracy  = 0.988\n",
      "Validation Accuracy = 0.933\n",
      "\n",
      "EPOCH 11 using learning rate 0.0006...\n",
      "Train Accuracy  = 0.992\n",
      "Validation Accuracy = 0.945\n",
      "\n",
      "EPOCH 12 using learning rate 0.0006...\n",
      "Train Accuracy  = 0.993\n",
      "Validation Accuracy = 0.949\n",
      "\n",
      "EPOCH 13 using learning rate 0.0006...\n",
      "Train Accuracy  = 0.993\n",
      "Validation Accuracy = 0.950\n",
      "\n",
      "EPOCH 14 using learning rate 0.0006...\n",
      "Train Accuracy  = 0.994\n",
      "Validation Accuracy = 0.951\n",
      "\n",
      "EPOCH 15 using learning rate 0.0006...\n",
      "Train Accuracy  = 0.994\n",
      "Validation Accuracy = 0.951\n",
      "\n",
      "EPOCH 16 using learning rate 0.0006...\n",
      "Train Accuracy  = 0.995\n",
      "Validation Accuracy = 0.954\n",
      "\n",
      "EPOCH 17 using learning rate 0.0006...\n",
      "Train Accuracy  = 0.995\n",
      "Validation Accuracy = 0.946\n",
      "\n",
      "EPOCH 18 using learning rate 0.0006...\n",
      "Train Accuracy  = 0.996\n",
      "Validation Accuracy = 0.949\n",
      "\n",
      "EPOCH 19 using learning rate 0.0006...\n",
      "Train Accuracy  = 0.996\n",
      "Validation Accuracy = 0.941\n",
      "\n",
      "EPOCH 20 using learning rate 0.0006...\n",
      "Train Accuracy  = 0.997\n",
      "Validation Accuracy = 0.954\n",
      "\n",
      "EPOCH 21 using learning rate 0.0006...\n",
      "Train Accuracy  = 0.997\n",
      "Validation Accuracy = 0.954\n",
      "\n",
      "EPOCH 22 using learning rate 0.0006...\n",
      "Train Accuracy  = 0.997\n",
      "Validation Accuracy = 0.958\n",
      "\n",
      "EPOCH 23 using learning rate 0.0006...\n",
      "Train Accuracy  = 0.997\n",
      "Validation Accuracy = 0.966\n",
      "\n",
      "EPOCH 24 using learning rate 0.0006...\n",
      "Train Accuracy  = 0.997\n",
      "Validation Accuracy = 0.960\n",
      "\n",
      "EPOCH 25 using learning rate 0.0006...\n",
      "Train Accuracy  = 0.998\n",
      "Validation Accuracy = 0.961\n",
      "\n",
      "EPOCH 26 using learning rate 0.0006...\n",
      "Train Accuracy  = 0.997\n",
      "Validation Accuracy = 0.960\n",
      "\n",
      "EPOCH 27 using learning rate 0.0006...\n",
      "Train Accuracy  = 0.998\n",
      "Validation Accuracy = 0.961\n",
      "\n",
      "EPOCH 28 using learning rate 0.0006...\n",
      "Train Accuracy  = 0.997\n",
      "Validation Accuracy = 0.960\n",
      "\n",
      "EPOCH 29 using learning rate 0.0006...\n",
      "Train Accuracy  = 0.997\n",
      "Validation Accuracy = 0.953\n",
      "\n",
      "EPOCH 30 using learning rate 0.0006...\n",
      "Train Accuracy  = 0.998\n",
      "Validation Accuracy = 0.958\n",
      "\n",
      "EPOCH 31 using learning rate 0.0006...\n",
      "Train Accuracy  = 0.998\n",
      "Validation Accuracy = 0.962\n",
      "\n",
      "EPOCH 32 using learning rate 0.0006...\n",
      "Train Accuracy  = 0.998\n",
      "Validation Accuracy = 0.960\n",
      "\n",
      "EPOCH 33 using learning rate 0.0006...\n",
      "Train Accuracy  = 0.998\n",
      "Validation Accuracy = 0.962\n",
      "\n",
      "EPOCH 34 using learning rate 0.0006...\n",
      "Train Accuracy  = 0.998\n",
      "Validation Accuracy = 0.964\n",
      "\n",
      "EPOCH 35 using learning rate 0.0006...\n",
      "Train Accuracy  = 0.998\n",
      "Validation Accuracy = 0.961\n",
      "\n",
      "EPOCH 36 using learning rate 0.0006...\n",
      "Train Accuracy  = 0.998\n",
      "Validation Accuracy = 0.965\n",
      "\n",
      "EPOCH 37 using learning rate 0.0006...\n",
      "Train Accuracy  = 0.998\n",
      "Validation Accuracy = 0.960\n",
      "\n",
      "EPOCH 38 using learning rate 0.0006...\n",
      "Train Accuracy  = 0.998\n",
      "Validation Accuracy = 0.964\n",
      "\n",
      "EPOCH 39 using learning rate 0.0006...\n",
      "Train Accuracy  = 0.998\n",
      "Validation Accuracy = 0.964\n",
      "\n",
      "EPOCH 40 using learning rate 0.0006...\n",
      "Train Accuracy  = 0.999\n",
      "Validation Accuracy = 0.961\n",
      "\n",
      "EPOCH 41 using learning rate 0.0006...\n",
      "Train Accuracy  = 0.999\n",
      "Validation Accuracy = 0.960\n",
      "\n",
      "EPOCH 42 using learning rate 0.0006...\n",
      "Train Accuracy  = 0.999\n",
      "Validation Accuracy = 0.962\n",
      "\n",
      "EPOCH 43 using learning rate 0.0006...\n",
      "Train Accuracy  = 0.999\n",
      "Validation Accuracy = 0.964\n",
      "\n",
      "EPOCH 44 using learning rate 0.0006...\n",
      "Train Accuracy  = 0.999\n",
      "Validation Accuracy = 0.965\n",
      "\n",
      "EPOCH 45 using learning rate 0.0006...\n",
      "Train Accuracy  = 0.998\n",
      "Validation Accuracy = 0.963\n",
      "\n",
      "EPOCH 46 using learning rate 0.0006...\n",
      "Train Accuracy  = 0.999\n",
      "Validation Accuracy = 0.957\n",
      "\n",
      "EPOCH 47 using learning rate 0.0006...\n",
      "Train Accuracy  = 0.999\n",
      "Validation Accuracy = 0.961\n",
      "\n",
      "EPOCH 48 using learning rate 0.0006...\n",
      "Train Accuracy  = 0.999\n",
      "Validation Accuracy = 0.960\n",
      "\n",
      "EPOCH 49 using learning rate 0.0006...\n",
      "Train Accuracy  = 0.999\n",
      "Validation Accuracy = 0.963\n",
      "\n",
      "EPOCH 50 using learning rate 0.0006...\n",
      "Train Accuracy  = 0.999\n",
      "Validation Accuracy = 0.966\n",
      "\n",
      "Model saved\n"
     ]
    }
   ],
   "source": [
    "### Train your model here.\n",
    "### Calculate and report the accuracy on the training and validation set.\n",
    "### Once a final model architecture is selected, \n",
    "### the accuracy on the test set should be calculated and reported as well.\n",
    "### Feel free to use as many code cells as needed.\n",
    "\n",
    "import tensorflow as tf\n",
    "\n",
    "EPOCHS = 50\n",
    "BATCH_SIZE = 128\n",
    "\n",
    "rate = 0.0006\n",
    "depth = int(X_train.shape[3])\n",
    "\n",
    "keep_prob = tf.placeholder(tf.float32)\n",
    "learning_rate = tf.placeholder(tf.float32, shape=[])\n",
    "x = tf.placeholder(tf.float32, (None, 32, 32, depth))\n",
    "y = tf.placeholder(tf.int32, (None))\n",
    "one_hot_y = tf.one_hot(y, len(set(y_train)))\n",
    "\n",
    "# pipeline\n",
    "logits = LeNet(x, len(set(y_train)), depth)\n",
    "cross_entropy = tf.nn.softmax_cross_entropy_with_logits(logits=logits, labels=one_hot_y)\n",
    "loss_operation = tf.reduce_mean(cross_entropy)\n",
    "optimizer = tf.train.AdamOptimizer(learning_rate = rate)\n",
    "training_operation = optimizer.minimize(loss_operation)\n",
    "\n",
    "# evaluation\n",
    "correct_prediction = tf.equal(tf.argmax(logits, 1), tf.argmax(one_hot_y, 1))\n",
    "accuracy_operation = tf.reduce_mean(tf.cast(correct_prediction, tf.float32))\n",
    "saver = tf.train.Saver()\n",
    "\n",
    "def evaluate(X_data, y_data):\n",
    "    num_examples = len(X_data)\n",
    "    total_accuracy = 0\n",
    "    sess = tf.get_default_session()\n",
    "    for offset in range(0, num_examples, BATCH_SIZE):\n",
    "        batch_x, batch_y = X_data[offset:offset+BATCH_SIZE], y_data[offset:offset+BATCH_SIZE]\n",
    "        accuracy = sess.run(accuracy_operation, feed_dict={x: batch_x, y: batch_y, keep_prob:1.})\n",
    "        total_accuracy += (accuracy * len(batch_x))\n",
    "    return total_accuracy / num_examples\n",
    "\n",
    "# train\n",
    "with tf.Session() as sess:\n",
    "    sess.run(tf.global_variables_initializer())\n",
    "    num_examples = len(X_train)\n",
    "    \n",
    "    print(\"Training...\")\n",
    "    print()\n",
    "    for i in range(EPOCHS):\n",
    "\n",
    "        for offset in range(0, num_examples, BATCH_SIZE):\n",
    "            end = offset + BATCH_SIZE\n",
    "            batch_x, batch_y = X_train[offset:end], y_train[offset:end]\n",
    "            sess.run(training_operation, feed_dict={x: batch_x, y: batch_y, keep_prob:0.5})\n",
    "        \n",
    "        print(\"EPOCH {} using learning rate {}...\".format(i+1, rate))\n",
    "        \n",
    "        train_accuracy = evaluate(X_train, y_train)\n",
    "        validation_accuracy = evaluate(X_valid, y_valid)\n",
    "        print(\"Train Accuracy  = {:.3f}\".format(train_accuracy)) \n",
    "        print(\"Validation Accuracy = {:.3f}\".format(validation_accuracy))\n",
    "        print()\n",
    "        \n",
    "    saver.save(sess, './lenet')\n",
    "    print(\"Model saved\")"
   ]
  },
  {
   "cell_type": "code",
   "execution_count": 5,
   "metadata": {
    "collapsed": false
   },
   "outputs": [
    {
     "name": "stdout",
     "output_type": "stream",
     "text": [
      "Test Accuracy  = 0.950\n"
     ]
    }
   ],
   "source": [
    "with tf.Session() as sess:\n",
    "    saver.restore(sess, './lenet')\n",
    "    test_accuracy = evaluate(X_test, y_test)\n",
    "    print(\"Test Accuracy  = {:.3f}\".format(test_accuracy)) "
   ]
  },
  {
   "cell_type": "markdown",
   "metadata": {},
   "source": [
    "---\n",
    "\n",
    "## Step 3: Test a Model on New Images\n",
    "\n",
    "To give yourself more insight into how your model is working, download at least five pictures of German traffic signs from the web and use your model to predict the traffic sign type.\n",
    "\n",
    "You may find `signnames.csv` useful as it contains mappings from the class id (integer) to the actual sign name."
   ]
  },
  {
   "cell_type": "markdown",
   "metadata": {},
   "source": [
    "### Load and Output the Images"
   ]
  },
  {
   "cell_type": "code",
   "execution_count": 6,
   "metadata": {
    "collapsed": false
   },
   "outputs": [],
   "source": [
    "### Load the images and plot them here.\n",
    "### Feel free to use as many code cells as needed.\n",
    "import matplotlib.image as mpimg\n",
    "import matplotlib.pyplot as plt\n",
    "\n",
    "no_entry_sign = mpimg.imread('downloads/stop.jpg')\n",
    "slippery_road = mpimg.imread('downloads/slippery_road.jpg')\n",
    "yield_sign = mpimg.imread('downloads/yield.jpg')\n",
    "speed_120 = mpimg.imread('downloads/speed_120.jpg')\n",
    "no_passing = mpimg.imread('downloads/no_passing.jpg')\n",
    "\n"
   ]
  },
  {
   "cell_type": "markdown",
   "metadata": {},
   "source": [
    "### Predict the Sign Type for Each Image"
   ]
  },
  {
   "cell_type": "code",
   "execution_count": 7,
   "metadata": {
    "collapsed": false,
    "scrolled": false
   },
   "outputs": [
    {
     "name": "stdout",
     "output_type": "stream",
     "text": [
      "[[  2.05566853e-28   1.19828166e-31   1.44996993e-32   2.24824273e-25\n",
      "    0.00000000e+00   3.64426665e-31   1.36802760e-37   1.22751945e-35\n",
      "    1.11684127e-37   1.02834928e-21   1.29563201e-23   9.43507249e-31\n",
      "    4.69765008e-29   1.06804836e-32   1.69442031e-21   3.30776928e-37\n",
      "    8.85680544e-31   1.00000000e+00   1.89159598e-37   3.72408291e-35\n",
      "    3.47940400e-29   0.00000000e+00   1.34990274e-32   8.15178416e-21\n",
      "    0.00000000e+00   9.97332239e-33   4.02475760e-28   0.00000000e+00\n",
      "    5.57825305e-38   3.44858194e-33   3.46201155e-34   1.05775772e-32\n",
      "    6.78126046e-35   0.00000000e+00   1.14325867e-26   1.64370661e-34\n",
      "    2.02558311e-35   2.52518492e-32   2.93795214e-23   0.00000000e+00\n",
      "    2.40752942e-30   1.17289959e-19   6.29813572e-34]\n",
      " [  5.46481720e-36   2.38157488e-33   5.88578767e-31   3.19444009e-29\n",
      "    0.00000000e+00   4.40585841e-26   0.00000000e+00   7.81595861e-30\n",
      "    0.00000000e+00   2.40505719e-25   2.75831414e-19   1.13089054e-14\n",
      "    3.42486744e-32   0.00000000e+00   0.00000000e+00   0.00000000e+00\n",
      "    8.04067309e-26   1.97171745e-31   1.89242839e-27   3.47523255e-25\n",
      "    1.50508755e-16   0.00000000e+00   1.17005390e-25   1.00000000e+00\n",
      "    2.18552932e-27   9.46953627e-10   4.65925465e-32   0.00000000e+00\n",
      "    2.93202270e-35   1.25144142e-16   1.62315352e-08   7.50907479e-17\n",
      "    0.00000000e+00   0.00000000e+00   1.46315283e-35   0.00000000e+00\n",
      "    0.00000000e+00   8.88418742e-37   5.77927832e-25   0.00000000e+00\n",
      "    0.00000000e+00   2.24419128e-31   1.27233573e-26]\n",
      " [  0.00000000e+00   5.15195004e-27   3.80916481e-30   1.53664979e-28\n",
      "    9.56949116e-36   1.57740689e-33   0.00000000e+00   1.36438392e-38\n",
      "    3.86451974e-37   2.98213236e-25   4.31890997e-34   6.31537595e-37\n",
      "    2.94399611e-25   1.00000000e+00   0.00000000e+00   5.21790781e-21\n",
      "    0.00000000e+00   0.00000000e+00   1.36893001e-38   0.00000000e+00\n",
      "    0.00000000e+00   0.00000000e+00   0.00000000e+00   0.00000000e+00\n",
      "    0.00000000e+00   9.01868324e-31   1.30407403e-34   0.00000000e+00\n",
      "    3.59451842e-25   2.05344909e-37   0.00000000e+00   0.00000000e+00\n",
      "    4.95269118e-35   3.43928047e-33   4.54124593e-25   1.30143452e-20\n",
      "    6.74578934e-26   1.39895451e-35   3.20124351e-31   8.07946775e-28\n",
      "    6.93233444e-35   5.03816804e-30   0.00000000e+00]\n",
      " [  4.68445420e-02   5.54779500e-10   1.31642750e-07   2.27183852e-18\n",
      "    1.27986516e-13   1.54131801e-08   1.10254442e-25   3.63146901e-10\n",
      "    9.53155279e-01   3.05327492e-30   2.70045615e-28   4.63980222e-30\n",
      "    0.00000000e+00   7.26611991e-31   2.44350607e-20   4.55340447e-33\n",
      "    3.02822915e-24   0.00000000e+00   0.00000000e+00   0.00000000e+00\n",
      "    0.00000000e+00   8.20575987e-36   0.00000000e+00   1.23114734e-38\n",
      "    0.00000000e+00   1.95111065e-32   3.60362557e-30   0.00000000e+00\n",
      "    2.85896389e-33   2.93489389e-23   0.00000000e+00   3.81037222e-37\n",
      "    0.00000000e+00   2.09900244e-31   1.15543290e-28   1.97083759e-31\n",
      "    3.15201050e-23   1.42613351e-34   2.00194717e-19   4.19568905e-33\n",
      "    4.21787634e-21   0.00000000e+00   0.00000000e+00]\n",
      " [  0.00000000e+00   0.00000000e+00   0.00000000e+00   0.00000000e+00\n",
      "    0.00000000e+00   0.00000000e+00   0.00000000e+00   0.00000000e+00\n",
      "    0.00000000e+00   1.00000000e+00   1.15506560e-23   0.00000000e+00\n",
      "    0.00000000e+00   0.00000000e+00   0.00000000e+00   0.00000000e+00\n",
      "    6.56051202e-31   5.94417169e-27   0.00000000e+00   0.00000000e+00\n",
      "    0.00000000e+00   0.00000000e+00   0.00000000e+00   4.65805115e-30\n",
      "    0.00000000e+00   0.00000000e+00   0.00000000e+00   0.00000000e+00\n",
      "    0.00000000e+00   0.00000000e+00   0.00000000e+00   0.00000000e+00\n",
      "    0.00000000e+00   0.00000000e+00   0.00000000e+00   0.00000000e+00\n",
      "    0.00000000e+00   0.00000000e+00   6.93097579e-38   0.00000000e+00\n",
      "    0.00000000e+00   6.50178755e-09   1.97208937e-40]]\n",
      "17,No entry\n",
      "\n",
      "23,Slippery road\n",
      "\n",
      "13,Yield\n",
      "\n",
      "8,Speed limit (120km/h)\n",
      "\n",
      "9,No passing\n",
      "\n"
     ]
    }
   ],
   "source": [
    "### Run the predictions here and use the model to output the prediction for each image.\n",
    "### Make sure to pre-process the images with the same pre-processing pipeline used earlier.\n",
    "### Feel free to use as many code cells as needed.\n",
    "\n",
    "import numpy as np\n",
    "\n",
    "fname = 'signnames.csv'\n",
    "with open(fname) as f:\n",
    "    sign_names = f.readlines()\n",
    "    \n",
    "download_data = np.array([\n",
    "    no_entry_sign,\n",
    "    slippery_road,\n",
    "    yield_sign,\n",
    "    speed_120,\n",
    "    no_passing,\n",
    "])\n",
    "\n",
    "download_data_labels = [17, 23, 13, 8, 9]\n",
    "\n",
    "# greyscale\n",
    "download_data = np.array([cv2.cvtColor(img, cv2.COLOR_BGR2GRAY) for img in download_data])\n",
    "download_data = download_data.reshape( (len(download_data), 32, 32, 1) )\n",
    "\n",
    "# normalize\n",
    "download_data = (download_data-128.0)/128.0\n",
    "\n",
    "# train\n",
    "with tf.Session() as sess:\n",
    "\n",
    "    # Load the weights and bias\n",
    "    saver.restore(sess, './lenet')\n",
    "\n",
    "    logits_output = sess.run(tf.nn.softmax(logits), feed_dict={x: download_data, keep_prob:1.})\n",
    "    print(logits_output)\n",
    "    labels = np.argmax(logits_output, axis=1)\n",
    "    for label in labels:\n",
    "        sign = next(l for l in sign_names if l.startswith(str(label)))\n",
    "        print(sign)"
   ]
  },
  {
   "cell_type": "code",
   "execution_count": 138,
   "metadata": {
    "collapsed": false
   },
   "outputs": [
    {
     "data": {
      "image/png": "[encoded data removed]",
      "text/plain": [
       "<matplotlib.figure.Figure at 0x27a17302128>"
      ]
     },
     "metadata": {},
     "output_type": "display_data"
    }
   ],
   "source": [
    "import matplotlib.pyplot as plt \n",
    "%matplotlib inline\n",
    "\n",
    "X_original_train, y_original_train = train['features'], train['labels']\n",
    "\n",
    "plt.figure(1, figsize=(15,15))\n",
    "# slippery road\n",
    "cls_ids = [idx for idx, cls in enumerate(y_original_train) if cls == 20]\n",
    "for idx, cls_id in enumerate(cls_ids):\n",
    "    plt.title('FeatureMap')\n",
    "    plt.subplot(6, 8, 48)\n",
    "    plt.imshow(X_original_train[cls_id],interpolation=\"nearest\",) \n",
    "    if idx > 15:\n",
    "        break\n",
    "\n",
    "\n",
    "# Beware of ice/snow\n",
    "# cls_idx = next(idx for idx, cls in enumerate(y_original_train) if cls == 30)\n",
    "# plt.imshow(X_original_train[cls_idx])\n",
    "\n",
    "\n",
    "plt.show()\n"
   ]
  },
  {
   "cell_type": "markdown",
   "metadata": {},
   "source": [
    "### Analyze Performance"
   ]
  },
  {
   "cell_type": "code",
   "execution_count": 8,
   "metadata": {
    "collapsed": false
   },
   "outputs": [
    {
     "name": "stdout",
     "output_type": "stream",
     "text": [
      "Accuracy: 100.0%\n"
     ]
    }
   ],
   "source": [
    "### Calculate the accuracy for these 5 new images. \n",
    "### For example, if the model predicted 1 out of 5 signs correctly, it's 20% accurate on these new images.\n",
    "\n",
    "numerator = 0\n",
    "denominator = len(download_data_labels)\n",
    "\n",
    "for idx in range(len(download_data_labels)):\n",
    "    numerator += download_data_labels[idx] == labels[idx]\n",
    "\n",
    "print(\"Accuracy: {}%\".format(numerator / denominator * 100))\n"
   ]
  },
  {
   "cell_type": "markdown",
   "metadata": {},
   "source": [
    "### Output Top 5 Softmax Probabilities For Each Image Found on the Web"
   ]
  },
  {
   "cell_type": "markdown",
   "metadata": {},
   "source": [
    "For each of the new images, print out the model's softmax probabilities to show the **certainty** of the model's predictions (limit the output to the top 5 probabilities for each image). [`tf.nn.top_k`](https://www.tensorflow.org/versions/r0.12/api_docs/python/nn.html#top_k) could prove helpful here. \n",
    "\n",
    "The example below demonstrates how tf.nn.top_k can be used to find the top k predictions for each image.\n",
    "\n",
    "`tf.nn.top_k` will return the values and indices (class ids) of the top k predictions. So if k=3, for each sign, it'll return the 3 largest probabilities (out of a possible 43) and the correspoding class ids.\n",
    "\n",
    "Take this numpy array as an example. The values in the array represent predictions. The array contains softmax probabilities for five candidate images with six possible classes. `tk.nn.top_k` is used to choose the three classes with the highest probability:\n",
    "\n",
    "```\n",
    "# (5, 6) array\n",
    "a = np.array([[ 0.24879643,  0.07032244,  0.12641572,  0.34763842,  0.07893497,\n",
    "         0.12789202],\n",
    "       [ 0.28086119,  0.27569815,  0.08594638,  0.0178669 ,  0.18063401,\n",
    "         0.15899337],\n",
    "       [ 0.26076848,  0.23664738,  0.08020603,  0.07001922,  0.1134371 ,\n",
    "         0.23892179],\n",
    "       [ 0.11943333,  0.29198961,  0.02605103,  0.26234032,  0.1351348 ,\n",
    "         0.16505091],\n",
    "       [ 0.09561176,  0.34396535,  0.0643941 ,  0.16240774,  0.24206137,\n",
    "         0.09155967]])\n",
    "```\n",
    "\n",
    "Running it through `sess.run(tf.nn.top_k(tf.constant(a), k=3))` produces:\n",
    "\n",
    "```\n",
    "TopKV2(values=array([[ 0.34763842,  0.24879643,  0.12789202],\n",
    "       [ 0.28086119,  0.27569815,  0.18063401],\n",
    "       [ 0.26076848,  0.23892179,  0.23664738],\n",
    "       [ 0.29198961,  0.26234032,  0.16505091],\n",
    "       [ 0.34396535,  0.24206137,  0.16240774]]), indices=array([[3, 0, 5],\n",
    "       [0, 1, 4],\n",
    "       [0, 5, 1],\n",
    "       [1, 3, 5],\n",
    "       [1, 4, 3]], dtype=int32))\n",
    "```\n",
    "\n",
    "Looking just at the first row we get `[ 0.34763842,  0.24879643,  0.12789202]`, you can confirm these are the 3 largest probabilities in `a`. You'll also notice `[3, 0, 5]` are the corresponding indices."
   ]
  },
  {
   "cell_type": "code",
   "execution_count": 9,
   "metadata": {
    "collapsed": false
   },
   "outputs": [
    {
     "name": "stdout",
     "output_type": "stream",
     "text": [
      "TopKV2(values=array([[  1.00000000e+00,   1.17289959e-19,   8.15178416e-21,\n",
      "          1.69442031e-21,   1.02834928e-21],\n",
      "       [  1.00000000e+00,   1.62315352e-08,   9.46953627e-10,\n",
      "          1.13089054e-14,   1.50508755e-16],\n",
      "       [  1.00000000e+00,   1.30143452e-20,   5.21790781e-21,\n",
      "          4.54124593e-25,   3.59451842e-25],\n",
      "       [  9.53155279e-01,   4.68445420e-02,   1.31642750e-07,\n",
      "          1.54131801e-08,   5.54779500e-10],\n",
      "       [  1.00000000e+00,   6.50178755e-09,   1.15506560e-23,\n",
      "          5.94417169e-27,   4.65805115e-30]], dtype=float32), indices=array([[17, 41, 23, 14,  9],\n",
      "       [23, 30, 25, 11, 20],\n",
      "       [13, 35, 15, 34, 28],\n",
      "       [ 8,  0,  2,  5,  1],\n",
      "       [ 9, 41, 10, 17, 23]]))\n"
     ]
    }
   ],
   "source": [
    "### Print out the top five softmax probabilities for the predictions on the German traffic sign images found on the web. \n",
    "### Feel free to use as many code cells as needed.\n",
    "\n",
    "with tf.Session() as sess:\n",
    "    top_5 = sess.run(tf.nn.top_k(tf.constant(logits_output), k=5))\n",
    "    print(top_5)"
   ]
  },
  {
   "cell_type": "markdown",
   "metadata": {},
   "source": [
    "---\n",
    "\n",
    "## Step 4: Visualize the Neural Network's State with Test Images\n",
    "\n",
    " This Section is not required to complete but acts as an additional excersise for understaning the output of a neural network's weights. While neural networks can be a great learning device they are often referred to as a black box. We can understand what the weights of a neural network look like better by plotting their feature maps. After successfully training your neural network you can see what it's feature maps look like by plotting the output of the network's weight layers in response to a test stimuli image. From these plotted feature maps, it's possible to see what characteristics of an image the network finds interesting. For a sign, maybe the inner network feature maps react with high activation to the sign's boundary outline or to the contrast in the sign's painted symbol.\n",
    "\n",
    " Provided for you below is the function code that allows you to get the visualization output of any tensorflow weight layer you want. The inputs to the function should be a stimuli image, one used during training or a new one you provided, and then the tensorflow variable name that represents the layer's state during the training process, for instance if you wanted to see what the [LeNet lab's](https://classroom.udacity.com/nanodegrees/nd013/parts/fbf77062-5703-404e-b60c-95b78b2f3f9e/modules/6df7ae49-c61c-4bb2-a23e-6527e69209ec/lessons/601ae704-1035-4287-8b11-e2c2716217ad/concepts/d4aca031-508f-4e0b-b493-e7b706120f81) feature maps looked like for it's second convolutional layer you could enter conv2 as the tf_activation variable.\n",
    "\n",
    "For an example of what feature map outputs look like, check out NVIDIA's results in their paper [End-to-End Deep Learning for Self-Driving Cars](https://devblogs.nvidia.com/parallelforall/deep-learning-self-driving-cars/) in the section Visualization of internal CNN State. NVIDIA was able to show that their network's inner weights had high activations to road boundary lines by comparing feature maps from an image with a clear path to one without. Try experimenting with a similar test to show that your trained network's weights are looking for interesting features, whether it's looking at differences in feature maps from images with or without a sign, or even what feature maps look like in a trained network vs a completely untrained one on the same sign image.\n",
    "\n",
    "<figure>\n",
    " <img src=\"visualize_cnn.png\" width=\"380\" alt=\"Combined Image\" />\n",
    " <figcaption>\n",
    " <p></p> \n",
    " <p style=\"text-align: center;\"> Your output should look something like this (above)</p> \n",
    " </figcaption>\n",
    "</figure>\n",
    " <p></p> \n"
   ]
  },
  {
   "cell_type": "code",
   "execution_count": 11,
   "metadata": {
    "collapsed": false
   },
   "outputs": [],
   "source": [
    "### Visualize your network's feature maps here.\n",
    "### Feel free to use as many code cells as needed.\n",
    "\n",
    "# image_input: the test image being fed into the network to produce the feature maps\n",
    "# tf_activation: should be a tf variable name used during your training procedure that represents the calculated state of a specific weight layer\n",
    "# activation_min/max: can be used to view the activation contrast in more detail, by default matplot sets min and max to the actual min and max values of the output\n",
    "# plt_num: used to plot out multiple different weight feature map sets on the same block, just extend the plt number for each new feature map entry\n",
    "\n",
    "def outputFeatureMap(image_input, tf_activation, activation_min=-1, activation_max=-1 ,plt_num=1):\n",
    "    # Here make sure to preprocess your image_input in a way your network expects\n",
    "    # with size, normalization, ect if needed\n",
    "    # image_input =\n",
    "    # Note: x should be the same name as your network's tensorflow data placeholder variable\n",
    "    # If you get an error tf_activation is not defined it maybe having trouble accessing the variable from inside a function\n",
    "    activation = tf_activation.eval(session=sess,feed_dict={x : image_input})\n",
    "    featuremaps = activation.shape[3]\n",
    "    plt.figure(plt_num, figsize=(15,15))\n",
    "    for featuremap in range(featuremaps):\n",
    "        plt.subplot(6,8, featuremap+1) # sets the number of feature maps to show on each row and column\n",
    "        plt.title('FeatureMap ' + str(featuremap)) # displays the feature map number\n",
    "        if activation_min != -1 & activation_max != -1:\n",
    "            plt.imshow(activation[0,:,:, featuremap], interpolation=\"nearest\", vmin =activation_min, vmax=activation_max, cmap=\"gray\")\n",
    "        elif activation_max != -1:\n",
    "            plt.imshow(activation[0,:,:, featuremap], interpolation=\"nearest\", vmax=activation_max, cmap=\"gray\")\n",
    "        elif activation_min !=-1:\n",
    "            plt.imshow(activation[0,:,:, featuremap], interpolation=\"nearest\", vmin=activation_min, cmap=\"gray\")\n",
    "        else:\n",
    "            plt.imshow(activation[0,:,:, featuremap], interpolation=\"nearest\", cmap=\"gray\")"
   ]
  },
  {
   "cell_type": "code",
   "execution_count": 12,
   "metadata": {
    "collapsed": false
   },
   "outputs": [
    {
     "name": "stdout",
     "output_type": "stream",
     "text": [
      "Working...\n"
     ]
    },
    {
     "data": {
      "image/png": "[encoded data removed]",
      "text/plain": [
       "<matplotlib.figure.Figure at 0x22e200ee978>"
      ]
     },
     "metadata": {},
     "output_type": "display_data"
    }
   ],
   "source": [
    "print(\"Working...\")\n",
    "\n",
    "with tf.Session() as sess:\n",
    "    saver.restore(sess, './lenet')\n",
    "    tf_activation = sess.graph.get_tensor_by_name('conv1:0')\n",
    "    outputFeatureMap(download_data, tf_activation)\n",
    "    \n",
    "plt.show()\n",
    "    "
   ]
  },
  {
   "cell_type": "markdown",
   "metadata": {},
   "source": [
    "### Question 9\n",
    "\n",
    "Discuss how you used the visual output of your trained network's feature maps to show that it had learned to look for interesting characteristics in traffic sign images\n"
   ]
  },
  {
   "cell_type": "markdown",
   "metadata": {},
   "source": [
    "**Answer:**"
   ]
  },
  {
   "cell_type": "markdown",
   "metadata": {},
   "source": [
    "> **Note**: Once you have completed all of the code implementations and successfully answered each question above, you may finalize your work by exporting the iPython Notebook as an HTML document. You can do this by using the menu above and navigating to  \\n\",\n",
    "    \"**File -> Download as -> HTML (.html)**. Include the finished document along with this notebook as your submission."
   ]
  },
  {
   "cell_type": "markdown",
   "metadata": {},
   "source": [
    "### Project Writeup\n",
    "\n",
    "Once you have completed the code implementation, document your results in a project writeup using this [template](https://github.com/udacity/CarND-Traffic-Sign-Classifier-Project/blob/master/writeup_template.md) as a guide. The writeup can be in a markdown or pdf file. "
   ]
  }
 ],
 "metadata": {
  "anaconda-cloud": {},
  "kernelspec": {
   "display_name": "Python 3",
   "language": "python",
   "name": "python3"
  },
  "language_info": {
   "codemirror_mode": {
    "name": "ipython",
    "version": 3
   },
   "file_extension": ".py",
   "mimetype": "text/x-python",
   "name": "python",
   "nbconvert_exporter": "python",
   "pygments_lexer": "ipython3",
   "version": "3.5.2"
  }
 },
 "nbformat": 4,
 "nbformat_minor": 1
}
